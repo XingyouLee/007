{
 "metadata": {
  "language_info": {
   "codemirror_mode": {
    "name": "ipython",
    "version": 3
   },
   "file_extension": ".py",
   "mimetype": "text/x-python",
   "name": "python",
   "nbconvert_exporter": "python",
   "pygments_lexer": "ipython3",
   "version": "3.7.4"
  },
  "orig_nbformat": 2,
  "kernelspec": {
   "name": "python374jvsc74a57bd0a8f61be024eba58adef938c9aa1e29e02cb3dece83a5348b1a2dafd16a070453",
   "display_name": "Python 3.7.4 64-bit ('base': conda)"
  }
 },
 "nbformat": 4,
 "nbformat_minor": 2,
 "cells": [
  {
   "cell_type": "code",
   "execution_count": 1,
   "metadata": {},
   "outputs": [],
   "source": [
    "\n",
    "import skimage.io\n",
    "import skimage.transform\n",
    "import matplotlib.pyplot as plt\n",
    "import numpy as np\n",
    "import math\n",
    " \n",
    "img_img = skimage.io.imread(r'E:\\comp\\train\\images\\0064.tif')\n",
    "img_label = skimage.io.imread(r'E:\\comp\\train\\labels\\0064.tif')\n",
    "# skimage.io.imshow(img[:,:,1])\n",
    "# plt.show()\n",
    "\n"
   ]
  },
  {
   "cell_type": "code",
   "execution_count": 20,
   "metadata": {},
   "outputs": [],
   "source": [
    "\n",
    "var_dict = {}\n",
    "for k in range(32):\n",
    "    total = 0\n",
    "    target1 = []\n",
    "    for m in range(500):\n",
    "        for n in range(500):\n",
    "            total += img_img[m][n][k]\n",
    "            if img_label[m][n] == 2:\n",
    "                target1.append(img_img[m][n][k])\n",
    "    avg = total/(500*500)\n",
    "    var_ = 0\n",
    "    for i in target1:\n",
    "        var_ += (i-avg)**2\n",
    "    var = var_ / len(target1)\n",
    "    var_dict[k] = var"
   ]
  },
  {
   "cell_type": "code",
   "execution_count": 21,
   "metadata": {},
   "outputs": [
    {
     "output_type": "execute_result",
     "data": {
      "text/plain": [
       "({0: 2252.6116502157884,\n",
       "  1: 6409.082539397838,\n",
       "  2: 10073.509226125465,\n",
       "  3: 8817.281292035674,\n",
       "  4: 11119.429902311522,\n",
       "  5: 16141.788600297079,\n",
       "  6: 13138.629611688555,\n",
       "  7: 14325.252727418976,\n",
       "  8: 16691.608511404145,\n",
       "  9: 19862.296612696464,\n",
       "  10: 8186.690528538879,\n",
       "  11: 9613.699247183624,\n",
       "  12: 12672.02857614504,\n",
       "  13: 13343.052807748605,\n",
       "  14: 11077.61694258001,\n",
       "  15: 10230.595001878897,\n",
       "  16: 5016.668406350426,\n",
       "  17: 2449.432358649588,\n",
       "  18: 4217.01496241677,\n",
       "  19: 1970.7608561373763,\n",
       "  20: 4212.228395645688,\n",
       "  21: 4250.329286515374,\n",
       "  22: 3443.4397828388296,\n",
       "  23: 2041.2124143784772,\n",
       "  24: 1751.5345699855272,\n",
       "  25: 2053.5365532677574,\n",
       "  26: 1721.3906323739168,\n",
       "  27: 2164.356056932074,\n",
       "  28: 1437.288232109402,\n",
       "  29: 647.671531449211,\n",
       "  30: 524.9885594372066,\n",
       "  31: 75.77255563528135},\n",
       " 105.56174)"
      ]
     },
     "metadata": {},
     "execution_count": 21
    }
   ],
   "source": [
    "mean1 = avg\n",
    "\n",
    "\n",
    "var_dict, mean1"
   ]
  },
  {
   "cell_type": "code",
   "execution_count": 22,
   "metadata": {},
   "outputs": [],
   "source": [
    "var_dict2 = {}\n",
    "mean_dict2 = {}\n",
    "for k in range(32):\n",
    "    \n",
    "    avg = img_img[:,:,k].mean()\n",
    "    mean_dict2[k] = avg\n",
    "    var = img_img[:,:,k].var()\n",
    "    var_dict2[k] = var"
   ]
  },
  {
   "cell_type": "code",
   "execution_count": 19,
   "metadata": {},
   "outputs": [
    {
     "output_type": "execute_result",
     "data": {
      "text/plain": [
       "({0: 472.03314052198397,\n",
       "  1: 1307.6205770365439,\n",
       "  2: 2173.4740044111363,\n",
       "  3: 1956.585838104176,\n",
       "  4: 2480.7063387803996,\n",
       "  5: 3785.049031000001,\n",
       "  6: 3217.056361954416,\n",
       "  7: 3632.884678520944,\n",
       "  8: 4841.850100305775,\n",
       "  9: 6228.3181066398565,\n",
       "  10: 2641.4609294064,\n",
       "  11: 3159.4628262643037,\n",
       "  12: 4204.660114039535,\n",
       "  13: 4450.179588052976,\n",
       "  14: 3909.9470808156007,\n",
       "  15: 4212.807316122736,\n",
       "  16: 2478.1786118778236,\n",
       "  17: 3307.9959932973443,\n",
       "  18: 8017.029180873663,\n",
       "  19: 4138.187907189505,\n",
       "  20: 9378.829100280253,\n",
       "  21: 9439.017808190396,\n",
       "  22: 7942.193676064703,\n",
       "  23: 4799.988619548017,\n",
       "  24: 4390.689461567937,\n",
       "  25: 5317.702097528577,\n",
       "  26: 4601.214615692401,\n",
       "  27: 6118.233246346174,\n",
       "  28: 4061.2228435070574,\n",
       "  29: 1964.091069954496,\n",
       "  30: 1573.1958706899038,\n",
       "  31: 215.03103617240004},\n",
       " 105.56174)"
      ]
     },
     "metadata": {},
     "execution_count": 19
    }
   ],
   "source": [
    "mean2 = avg\n",
    "\n",
    "\n",
    "var_dict2, mean2"
   ]
  },
  {
   "cell_type": "code",
   "execution_count": 23,
   "metadata": {},
   "outputs": [
    {
     "output_type": "execute_result",
     "data": {
      "text/plain": [
       "{0: 491.346496,\n",
       " 1: 571.462384,\n",
       " 2: 543.978192,\n",
       " 3: 452.990732,\n",
       " 4: 474.60986,\n",
       " 5: 547.855,\n",
       " 6: 446.189172,\n",
       " 7: 446.604084,\n",
       " 8: 442.156332,\n",
       " 9: 467.890012,\n",
       " 10: 293.78044,\n",
       " 11: 270.690236,\n",
       " 12: 268.771908,\n",
       " 13: 269.973468,\n",
       " 14: 260.20438,\n",
       " 15: 315.313292,\n",
       " 16: 258.489224,\n",
       " 17: 286.641784,\n",
       " 18: 387.483656,\n",
       " 19: 298.338864,\n",
       " 20: 416.887912,\n",
       " 21: 423.25564,\n",
       " 22: 406.384536,\n",
       " 23: 365.474772,\n",
       " 24: 316.847992,\n",
       " 25: 331.023632,\n",
       " 26: 304.76274,\n",
       " 27: 333.599768,\n",
       " 28: 289.527212,\n",
       " 29: 204.495752,\n",
       " 30: 182.335436,\n",
       " 31: 105.56174}"
      ]
     },
     "metadata": {},
     "execution_count": 23
    }
   ],
   "source": [
    "mean_dict2"
   ]
  },
  {
   "cell_type": "code",
   "execution_count": 25,
   "metadata": {},
   "outputs": [
    {
     "output_type": "execute_result",
     "data": {
      "text/plain": [
       "numpy.float64"
      ]
     },
     "metadata": {},
     "execution_count": 25
    }
   ],
   "source": [
    "type(mean_dict2[0])"
   ]
  },
  {
   "cell_type": "code",
   "execution_count": 54,
   "metadata": {},
   "outputs": [],
   "source": [
    "p = np.zeros((32,32))\n",
    "\n",
    "for i in range(32):\n",
    "    for j in range(32):\n",
    "        E_XY = (img_img[:,:,i] * img_img[:,:,j]).mean()\n",
    "        p[i][j] = (E_XY - img_img[:,:,i].mean()*img_img[:,:,j].mean())/(math.sqrt(var_dict2[i]*var_dict2[j]))"
   ]
  },
  {
   "cell_type": "code",
   "execution_count": 59,
   "metadata": {},
   "outputs": [
    {
     "output_type": "execute_result",
     "data": {
      "text/plain": [
       "array([[ 0,  1,  2,  3],\n",
       "       [ 4,  5,  6,  7],\n",
       "       [ 8,  9, 10, 11],\n",
       "       [12, 13, 14, 15],\n",
       "       [16, 17, 18, 19],\n",
       "       [20, 21, 22, 23],\n",
       "       [24, 25, 26, 27],\n",
       "       [28, 29, 30, 31]])"
      ]
     },
     "metadata": {},
     "execution_count": 59
    }
   ],
   "source": [
    "group0 = np.arange(32)\n",
    "group0.resize(8,4)\n",
    "group0"
   ]
  },
  {
   "cell_type": "code",
   "execution_count": 43,
   "metadata": {},
   "outputs": [],
   "source": [
    "group1 = np.arange(8)\n"
   ]
  },
  {
   "cell_type": "code",
   "execution_count": 63,
   "metadata": {},
   "outputs": [],
   "source": [
    "R_w = []\n",
    "for i in group0:\n",
    "    m = 0\n",
    "    for j in range(4):\n",
    "        m += abs( p[i[0]][i[0+j]])\n",
    "    R_w.append(m/4)"
   ]
  },
  {
   "cell_type": "code",
   "execution_count": 72,
   "metadata": {},
   "outputs": [],
   "source": [
    "R_a = []\n",
    "for i in range(32):\n",
    "    n = 0\n",
    "    for j in range(8):\n",
    "        if i in group0[j]:\n",
    "            m = j\n",
    "            break\n",
    "    for j in range(32):\n",
    "        if j in group0[m]:\n",
    "            continue\n",
    "        else:\n",
    "            n += abs(p[i][j])\n",
    "    R_a.append(n/28)\n",
    "            \n"
   ]
  },
  {
   "cell_type": "code",
   "execution_count": 76,
   "metadata": {},
   "outputs": [],
   "source": [
    "P = []\n",
    "for i in range(32):\n",
    "    P.append(var_dict2[i]/(R_a[i]+R_w[i//4]))"
   ]
  },
  {
   "cell_type": "code",
   "execution_count": 77,
   "metadata": {},
   "outputs": [
    {
     "output_type": "execute_result",
     "data": {
      "text/plain": [
       "[1.2098608099657246,\n",
       " 3.5780749774881007,\n",
       " 6.268917609813596,\n",
       " 5.780073724802647,\n",
       " 21.49106327319089,\n",
       " 33.2198146528244,\n",
       " 30.11990076340501,\n",
       " 34.72380162486276,\n",
       " 78.80543632917326,\n",
       " 104.43109813686998,\n",
       " 48.94507894926311,\n",
       " 64.89051846383494,\n",
       " 153.33875297255244,\n",
       " 164.63990262354633,\n",
       " 143.66324616462293,\n",
       " 128.92430884641004,\n",
       " 67.36711154185788,\n",
       " 87.12952054481089,\n",
       " 218.2526059355934,\n",
       " 112.67023676165482,\n",
       " 244.36405999342608,\n",
       " 243.61526357342754,\n",
       " 201.05584777751784,\n",
       " 113.42091728355207,\n",
       " 116.08657292163608,\n",
       " 144.33800583962477,\n",
       " 127.18534945478048,\n",
       " 172.27746017935848,\n",
       " 133.9546789478871,\n",
       " 76.8001897341509,\n",
       " 65.07747482541792,\n",
       " 18.536978104620488]"
      ]
     },
     "metadata": {},
     "execution_count": 77
    }
   ],
   "source": [
    "P"
   ]
  },
  {
   "cell_type": "code",
   "execution_count": 83,
   "metadata": {},
   "outputs": [
    {
     "output_type": "stream",
     "name": "stdout",
     "text": [
      "9\n12\n13\n14\n15\n18\n19\n20\n21\n22\n23\n24\n25\n26\n27\n28\nCount: 16\n"
     ]
    }
   ],
   "source": [
    "count = 0\n",
    "for i in range(32):\n",
    "    if P[i]>100:\n",
    "        print(i)\n",
    "        count += 1\n",
    "print(\"Count:\",count)"
   ]
  },
  {
   "cell_type": "code",
   "execution_count": null,
   "metadata": {},
   "outputs": [],
   "source": []
  }
 ]
}