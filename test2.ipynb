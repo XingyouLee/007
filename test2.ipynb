{
 "metadata": {
  "language_info": {
   "codemirror_mode": {
    "name": "ipython",
    "version": 3
   },
   "file_extension": ".py",
   "mimetype": "text/x-python",
   "name": "python",
   "nbconvert_exporter": "python",
   "pygments_lexer": "ipython3",
   "version": "3.7.4"
  },
  "orig_nbformat": 2,
  "kernelspec": {
   "name": "python374jvsc74a57bd0a8f61be024eba58adef938c9aa1e29e02cb3dece83a5348b1a2dafd16a070453",
   "display_name": "Python 3.7.4 64-bit ('base': conda)"
  }
 },
 "nbformat": 4,
 "nbformat_minor": 2,
 "cells": [
  {
   "cell_type": "code",
   "execution_count": 1,
   "metadata": {},
   "outputs": [],
   "source": [
    "\n",
    "import skimage.io\n",
    "import skimage.transform\n",
    "import matplotlib.pyplot as plt\n",
    "import numpy as np\n",
    "\n",
    " \n",
    "img_img = skimage.io.imread(r'E:\\comp\\train\\images\\0064.tif')\n",
    "img_label = skimage.io.imread(r'E:\\comp\\train\\labels\\0064.tif')\n",
    "# skimage.io.imshow(img[:,:,1])\n",
    "# plt.show()\n",
    "\n"
   ]
  },
  {
   "cell_type": "code",
   "execution_count": 19,
   "metadata": {},
   "outputs": [
    {
     "output_type": "execute_result",
     "data": {
      "text/plain": [
       "1023"
      ]
     },
     "metadata": {},
     "execution_count": 19
    }
   ],
   "source": [
    "img_img[:,:,1].max()"
   ]
  },
  {
   "cell_type": "code",
   "execution_count": 18,
   "metadata": {},
   "outputs": [],
   "source": [
    "import math"
   ]
  },
  {
   "cell_type": "code",
   "execution_count": 37,
   "metadata": {},
   "outputs": [],
   "source": [
    "\n",
    "var_dict = {}\n",
    "for k in range(32):\n",
    "    total = 0\n",
    "    target = []\n",
    "    for m in range(500):\n",
    "        for n in range(500):\n",
    "            total += img_img[m][n][k]\n",
    "            if img_label[m][n] == 2:\n",
    "                target.append(img_img[m][n][k])\n",
    "    avg = total/500*500\n",
    "    var_ = 0\n",
    "    for i in target:\n",
    "        var_ += (i-avg)**2\n",
    "    var = var_ / len(target)\n",
    "    var_dict[k] = var"
   ]
  },
  {
   "cell_type": "code",
   "execution_count": 38,
   "metadata": {},
   "outputs": [
    {
     "output_type": "execute_result",
     "data": {
      "text/plain": [
       "{0: 1.5088708808468752e+16,\n",
       " 1: 2.041040215247252e+16,\n",
       " 2: 1.8494353552705144e+16,\n",
       " 3: 1.2824923070281086e+16,\n",
       " 4: 1.4078281049599996e+16,\n",
       " 5: 1.8758901296958476e+16,\n",
       " 6: 1.2442687018747242e+16,\n",
       " 7: 1.2465838191614766e+16,\n",
       " 8: 1.2218777042415446e+16,\n",
       " 9: 1.36824397230818e+16,\n",
       " 10: 5394133784672319.0,\n",
       " 11: 4579531396390617.0,\n",
       " 12: 4514851285467144.0,\n",
       " 13: 4555309114246114.0,\n",
       " 14: 4231603406046934.5,\n",
       " 15: 6213847049431897.0,\n",
       " 16: 4176005216378379.0,\n",
       " 17: 5135177444920224.0,\n",
       " 18: 9383899639847094.0,\n",
       " 19: 5562836139282701.0,\n",
       " 20: 1.086213571275207e+16,\n",
       " 21: 1.1196496016897276e+16,\n",
       " 22: 1.0321694111247368e+16,\n",
       " 23: 8348172848152659.0,\n",
       " 24: 6274491537895667.0,\n",
       " 25: 6848486631343076.0,\n",
       " 26: 5804974950978424.0,\n",
       " 27: 6955495666660660.0,\n",
       " 28: 5239084140165594.0,\n",
       " 29: 2613636384844474.0,\n",
       " 30: 2077871737511849.5,\n",
       " 31: 696449475921813.0}"
      ]
     },
     "metadata": {},
     "execution_count": 38
    }
   ],
   "source": [
    "var_dict"
   ]
  },
  {
   "cell_type": "code",
   "execution_count": 39,
   "metadata": {},
   "outputs": [
    {
     "output_type": "execute_result",
     "data": {
      "text/plain": [
       "{0: 14476,\n",
       " 1: 14476,\n",
       " 2: 14476,\n",
       " 3: 14476,\n",
       " 4: 14476,\n",
       " 5: 14476,\n",
       " 6: 14476,\n",
       " 7: 14476,\n",
       " 8: 14476,\n",
       " 9: 14476,\n",
       " 10: 14476,\n",
       " 11: 14476,\n",
       " 12: 14476,\n",
       " 13: 14476,\n",
       " 14: 14476,\n",
       " 15: 14476,\n",
       " 16: 14476,\n",
       " 17: 14476,\n",
       " 18: 14476,\n",
       " 19: 14476,\n",
       " 20: 14476,\n",
       " 21: 14476,\n",
       " 22: 14476,\n",
       " 23: 14476,\n",
       " 24: 14476,\n",
       " 25: 14476,\n",
       " 26: 14476,\n",
       " 27: 14476,\n",
       " 28: 14476,\n",
       " 29: 14476,\n",
       " 30: 14476,\n",
       " 31: 14476}"
      ]
     },
     "metadata": {},
     "execution_count": 39
    }
   ],
   "source": [
    "\n",
    "count_dict = {}\n",
    "for k in range(32):\n",
    "    count = 0\n",
    "    for m in range(500):\n",
    "        for n in range(500):\n",
    "\n",
    "            if img_label[m][n] == 2:\n",
    "                count += 1\n",
    "\n",
    "    var_dict[k] = count\n",
    "var_dict"
   ]
  },
  {
   "cell_type": "code",
   "execution_count": null,
   "metadata": {},
   "outputs": [],
   "source": []
  }
 ]
}