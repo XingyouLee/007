{
 "metadata": {
  "language_info": {
   "codemirror_mode": {
    "name": "ipython",
    "version": 3
   },
   "file_extension": ".py",
   "mimetype": "text/x-python",
   "name": "python",
   "nbconvert_exporter": "python",
   "pygments_lexer": "ipython3",
   "version": "3.7.4"
  },
  "orig_nbformat": 2,
  "kernelspec": {
   "name": "python374jvsc74a57bd0a8f61be024eba58adef938c9aa1e29e02cb3dece83a5348b1a2dafd16a070453",
   "display_name": "Python 3.7.4 64-bit ('base': conda)"
  }
 },
 "nbformat": 4,
 "nbformat_minor": 2,
 "cells": [
  {
   "cell_type": "code",
   "execution_count": 3,
   "metadata": {},
   "outputs": [],
   "source": [
    "\n",
    "import skimage.io\n",
    "import skimage.transform\n",
    "import matplotlib.pyplot as plt\n",
    "import numpy as np\n",
    "from sklearn.decomposition import PCA\n",
    " \n",
    "img_img = skimage.io.imread(r'E:\\comp\\train\\images\\0003.tif')\n",
    "img_label = skimage.io.imread(r'E:\\comp\\train\\labels\\0003.tif')"
   ]
  },
  {
   "cell_type": "code",
   "execution_count": 3,
   "metadata": {},
   "outputs": [],
   "source": [
    "def PCA(data, n_components):\n",
    "    \"\"\"\n",
    "    PCA降维\n",
    "    :return:\n",
    "    \"\"\"\n",
    "    \n",
    "    transfer = PCA(n_components=n_components)  # n_componets = 0.95\n",
    "    data_new = transfer.fit_transform(data)\n",
    "    return data_new\n"
   ]
  },
  {
   "cell_type": "code",
   "execution_count": 23,
   "metadata": {},
   "outputs": [
    {
     "output_type": "stream",
     "name": "stdout",
     "text": [
      "[[ 1.7122852 ]\n [-1.98371285]\n [-5.67971091]\n [ 5.95113855]]\n[[6, 2, 6, 2], [3, 4, 3, 4], [0, 6, 0, 6], [8, 8, 8, 8]]\n"
     ]
    }
   ],
   "source": [
    "\n",
    "\"\"\"\n",
    "PCA降维\n",
    ":return:\n",
    "\"\"\"\n",
    "data = [[[2,2,2,2], [8,4,8,4], [4,6,4,6], [5,8,5,8]], [[6,2,6,2], [3,4,3,4], [0,6,0,6], [8,8,8,8]], [[5,2,5,2], [4,4,4,4], [9,6,9,6], [1,8,1,8]]]\n",
    "transfer = PCA(n_components=1)  # n_componets = 0.95\n",
    "data_new = transfer.fit_transform(data[1])\n",
    "print(data_new)\n",
    "print(data[1])"
   ]
  },
  {
   "cell_type": "code",
   "execution_count": 26,
   "metadata": {},
   "outputs": [
    {
     "output_type": "execute_result",
     "data": {
      "text/plain": [
       "((3, 4, 4), (4, 4))"
      ]
     },
     "metadata": {},
     "execution_count": 26
    }
   ],
   "source": [
    "data = [[[2,2,2,2], [8,4,8,4], [4,6,4,6], [5,8,5,8]], [[6,2,6,2], [3,4,3,4], [0,6,0,6], [8,8,8,8]], [[5,2,5,2], [4,4,4,4], [9,6,9,6], [1,8,1,8]]]\n",
    "np.shape(data),np.shape(data[1])"
   ]
  },
  {
   "cell_type": "code",
   "execution_count": 27,
   "metadata": {},
   "outputs": [
    {
     "output_type": "execute_result",
     "data": {
      "text/plain": [
       "(4, 1)"
      ]
     },
     "metadata": {},
     "execution_count": 27
    }
   ],
   "source": [
    "np.shape(data_new)"
   ]
  },
  {
   "cell_type": "code",
   "execution_count": 2,
   "metadata": {},
   "outputs": [
    {
     "output_type": "error",
     "ename": "NameError",
     "evalue": "name 'img_img' is not defined",
     "traceback": [
      "\u001b[1;31m---------------------------------------------------------------------------\u001b[0m",
      "\u001b[1;31mNameError\u001b[0m                                 Traceback (most recent call last)",
      "\u001b[1;32m<ipython-input-2-a652d6e58664>\u001b[0m in \u001b[0;36m<module>\u001b[1;34m\u001b[0m\n\u001b[0;32m     91\u001b[0m \u001b[1;33m\u001b[0m\u001b[0m\n\u001b[0;32m     92\u001b[0m \u001b[1;32mif\u001b[0m \u001b[0m__name__\u001b[0m\u001b[1;33m==\u001b[0m\u001b[1;34m'__main__'\u001b[0m\u001b[1;33m:\u001b[0m\u001b[1;33m\u001b[0m\u001b[1;33m\u001b[0m\u001b[0m\n\u001b[1;32m---> 93\u001b[1;33m         \u001b[0mmain\u001b[0m\u001b[1;33m(\u001b[0m\u001b[1;33m)\u001b[0m\u001b[1;33m\u001b[0m\u001b[1;33m\u001b[0m\u001b[0m\n\u001b[0m",
      "\u001b[1;32m<ipython-input-2-a652d6e58664>\u001b[0m in \u001b[0;36mmain\u001b[1;34m()\u001b[0m\n\u001b[0;32m     77\u001b[0m \u001b[1;32mdef\u001b[0m \u001b[0mmain\u001b[0m\u001b[1;33m(\u001b[0m\u001b[1;33m)\u001b[0m\u001b[1;33m:\u001b[0m\u001b[1;33m\u001b[0m\u001b[1;33m\u001b[0m\u001b[0m\n\u001b[0;32m     78\u001b[0m \u001b[1;33m\u001b[0m\u001b[0m\n\u001b[1;32m---> 79\u001b[1;33m         \u001b[0mimage\u001b[0m\u001b[1;33m=\u001b[0m\u001b[0mimg_img\u001b[0m\u001b[1;33m[\u001b[0m\u001b[1;33m:\u001b[0m\u001b[1;33m,\u001b[0m\u001b[1;33m:\u001b[0m\u001b[1;33m,\u001b[0m\u001b[1;36m1\u001b[0m\u001b[1;33m]\u001b[0m\u001b[1;33m\u001b[0m\u001b[1;33m\u001b[0m\u001b[0m\n\u001b[0m\u001b[0;32m     80\u001b[0m         \u001b[0mrows\u001b[0m\u001b[1;33m,\u001b[0m\u001b[0mcols\u001b[0m\u001b[1;33m=\u001b[0m\u001b[0mimage\u001b[0m\u001b[1;33m.\u001b[0m\u001b[0mshape\u001b[0m\u001b[1;33m\u001b[0m\u001b[1;33m\u001b[0m\u001b[0m\n\u001b[0;32m     81\u001b[0m         \u001b[0mprint\u001b[0m\u001b[1;33m(\u001b[0m\u001b[1;34m\"降维前的特征个数：\"\u001b[0m\u001b[1;33m+\u001b[0m\u001b[0mstr\u001b[0m\u001b[1;33m(\u001b[0m\u001b[0mcols\u001b[0m\u001b[1;33m)\u001b[0m\u001b[1;33m+\u001b[0m\u001b[1;34m\"\\n\"\u001b[0m\u001b[1;33m)\u001b[0m\u001b[1;33m\u001b[0m\u001b[1;33m\u001b[0m\u001b[0m\n",
      "\u001b[1;31mNameError\u001b[0m: name 'img_img' is not defined"
     ]
    }
   ],
   "source": [
    "\n",
    "#encoding:GBK\n",
    "\"\"\"\n",
    "Created on 2019/09/23 16:19:11\n",
    "@author: Sirius_xuan\n",
    "\"\"\"\n",
    "'''\n",
    "基于PCA的图像降维及重构\n",
    "'''\n",
    " \n",
    "import numpy as np\n",
    "import cv2 as cv\n",
    " \n",
    "#数据中心化\n",
    "def Z_centered(dataMat):\n",
    "\trows,cols=dataMat.shape\n",
    "\tmeanVal = np.mean(dataMat, axis=0)  # 按列求均值，即求各个特征的均值\n",
    "\tmeanVal = np.tile(meanVal,(rows,1))\n",
    "\tnewdata = dataMat-meanVal\n",
    "\treturn newdata, meanVal\n",
    " \n",
    "#协方差矩阵\n",
    "def Cov(dataMat):\n",
    "\tmeanVal = np.mean(data,0) #压缩行，返回1*cols矩阵，对各列求均值\n",
    "\tmeanVal = np.tile(meanVal, (rows,1)) #返回rows行的均值矩阵\n",
    "\tZ = dataMat - meanVal\n",
    "\tZcov = (1/(rows-1))*Z.T * Z\n",
    "\treturn Zcov\n",
    "\t\n",
    "#最小化降维造成的损失，确定k\n",
    "def Percentage2n(eigVals, percentage):\n",
    "\tsortArray = np.sort(eigVals)  # 升序\n",
    "\tsortArray = sortArray[-1::-1]  # 逆转，即降序\n",
    "\tarraySum = sum(sortArray)\n",
    "\ttmpSum = 0\n",
    "\tnum = 0\n",
    "\tfor i in sortArray:\n",
    "\t\ttmpSum += i\n",
    "\t\tnum += 1\n",
    "\t\tif tmpSum >= arraySum * percentage:\n",
    "\t\t\treturn num\n",
    "\t\n",
    "#得到最大的k个特征值和特征向量\n",
    "def EigDV(covMat, p):\n",
    "\tD, V = np.linalg.eig(covMat) # 得到特征值和特征向量\n",
    "\tk = Percentage2n(D, p) # 确定k值\n",
    "\tprint(\"保留99%信息，降维后的特征个数：\"+str(k)+\"\\n\")\n",
    "\teigenvalue = np.argsort(D)\n",
    "\tK_eigenValue = eigenvalue[-1:-(k+1):-1]\n",
    "\tK_eigenVector = V[:,K_eigenValue]\n",
    "\treturn K_eigenValue, K_eigenVector\n",
    "\t\n",
    "#得到降维后的数据\n",
    "def getlowDataMat(DataMat, K_eigenVector):\n",
    "\treturn DataMat * K_eigenVector\n",
    " \n",
    "#重构数据\n",
    "def Reconstruction(lowDataMat, K_eigenVector, meanVal):\n",
    "\treconDataMat = lowDataMat * K_eigenVector.T + meanVal\n",
    "\treturn reconDataMat\n",
    " \n",
    "#PCA算法\n",
    "def PCA(data, p):\n",
    "\tdataMat = np.float32(np.mat(data))\n",
    "\t#数据中心化\n",
    "\tdataMat, meanVal = Z_centered(dataMat)\n",
    "\t#计算协方差矩阵\n",
    "\t\t#covMat = Cov(dataMat)\n",
    "\tcovMat = np.cov(dataMat, rowvar=0)\n",
    "\t#得到最大的k个特征值和特征向量\n",
    "\tD, V = EigDV(covMat, p)\n",
    "\t#得到降维后的数据\n",
    "\tlowDataMat = getlowDataMat(dataMat, V)\n",
    "\t#重构数据\n",
    "\treconDataMat = Reconstruction(lowDataMat, V, meanVal)\n",
    "\treturn reconDataMat\n",
    " \n",
    "def main():\n",
    "\n",
    "\timage=img_img[:,:,1]\n",
    "\trows,cols=image.shape\n",
    "\tprint(\"降维前的特征个数：\"+str(cols)+\"\\n\")\n",
    "\tprint(image)\n",
    "\tprint('----------------------------------------')\n",
    "\treconImage = PCA(image, 0.99)\n",
    "\treconImage = reconImage.astype(np.uint8)\n",
    "\tprint(reconImage)\n",
    "\tcv.imshow('test',reconImage)\n",
    "\tcv.waitKey(0)\n",
    "\tcv.destroyAllWindows()\n",
    " \n",
    " \n",
    "if __name__=='__main__':\n",
    "\tmain()\n"
   ]
  },
  {
   "cell_type": "code",
   "execution_count": null,
   "metadata": {},
   "outputs": [],
   "source": [
    "skimage.io.imshow(reconImage)\n",
    "plt.show()"
   ]
  },
  {
   "cell_type": "code",
   "execution_count": 1,
   "metadata": {},
   "outputs": [
    {
     "output_type": "error",
     "ename": "NameError",
     "evalue": "name 'np' is not defined",
     "traceback": [
      "\u001b[1;31m---------------------------------------------------------------------------\u001b[0m",
      "\u001b[1;31mNameError\u001b[0m                                 Traceback (most recent call last)",
      "\u001b[1;32m<ipython-input-1-71b801513ac4>\u001b[0m in \u001b[0;36m<module>\u001b[1;34m\u001b[0m\n\u001b[1;32m----> 1\u001b[1;33m \u001b[0mnp\u001b[0m\u001b[1;33m.\u001b[0m\u001b[0mshape\u001b[0m\u001b[1;33m(\u001b[0m\u001b[0mreconImage\u001b[0m\u001b[1;33m)\u001b[0m\u001b[1;33m\u001b[0m\u001b[1;33m\u001b[0m\u001b[0m\n\u001b[0m",
      "\u001b[1;31mNameError\u001b[0m: name 'np' is not defined"
     ]
    }
   ],
   "source": [
    "np.shape(reconImage)\n"
   ]
  },
  {
   "cell_type": "code",
   "execution_count": null,
   "metadata": {},
   "outputs": [],
   "source": []
  }
 ]
}